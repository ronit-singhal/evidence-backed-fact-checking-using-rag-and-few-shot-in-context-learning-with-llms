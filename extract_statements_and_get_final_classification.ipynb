{
 "cells": [
  {
   "cell_type": "code",
   "execution_count": 8,
   "metadata": {},
   "outputs": [],
   "source": [
    "import json\n",
    "from pathlib import Path\n",
    "import pandas as pd\n",
    "from tqdm.auto import tqdm\n",
    "from typing import List, Dict, Union, Optional\n",
    "\n",
    "from langchain_core.prompts.chat import ChatPromptTemplate\n",
    "from langchain_core.output_parsers import StrOutputParser\n",
    "from langchain.docstore.document import Document\n",
    "from langchain.document_loaders.base import BaseLoader\n",
    "from langchain_community.llms import Ollama"
   ]
  },
  {
   "cell_type": "code",
   "execution_count": 2,
   "metadata": {},
   "outputs": [],
   "source": [
    "dev_data_df = pd.read_csv(\"dev_data_df.csv\")"
   ]
  },
  {
   "cell_type": "code",
   "execution_count": 9,
   "metadata": {},
   "outputs": [],
   "source": [
    "class JSONLLoader(BaseLoader):\n",
    "    def __init__(\n",
    "        self,\n",
    "        file_path: Union[str, Path],\n",
    "        content_key: Optional[str] = None,\n",
    "        ):\n",
    "        self.file_path = Path(file_path).resolve()\n",
    "        self._content_key = content_key\n",
    "        \n",
    "    def load(self) -> List[Document]:\n",
    "        docs = []\n",
    "        with open(self.file_path, 'r', encoding=\"utf8\") as file:\n",
    "            for line in file:\n",
    "                data = json.loads(line.strip())\n",
    "                claim_id = data['claim_id']\n",
    "                type_ = data['type']\n",
    "                query = data['query']\n",
    "                url = data['url']\n",
    "                url2text = data['url2text']\n",
    "\n",
    "                text = ' '.join(url2text)\n",
    "\n",
    "                metadata = dict(\n",
    "                    claim_id=claim_id,\n",
    "                    type=type_,\n",
    "                    query=query,\n",
    "                    source=url\n",
    "                )\n",
    "                docs.append(Document(page_content=text, metadata=metadata))\n",
    "                    \n",
    "        return docs"
   ]
  },
  {
   "cell_type": "code",
   "execution_count": 6,
   "metadata": {},
   "outputs": [],
   "source": [
    "llm = Ollama(model=\"phi3:14b-instruct\", temperature=0.0)\n",
    "\n",
    "prompt_template = ChatPromptTemplate.from_messages([\n",
    "    (\"system\", \"You are strictly prohibited from generating any text of your own.\"),\n",
    "    (\"system\", \"Limit your answer to 50 words.\"),\n",
    "    (\"system\", \"Your task is to extract a part of the given text that directly answers the given question. The extracted information should contain a conclusive answer to the question and should be either positive or negative in relation to the question. It should also be concise without irrelevant words\"),\n",
    "    (\"human\", \"Question: {question}\"),\n",
    "    (\"human\", \"Pay more attention to the later parts of the evidences, as the intitial sentences are only the introduction\"),\n",
    "    (\"human\", \"Evidence: {evidence}\"),\n",
    "    (\"system\", \"You do not need to explain your answer. Only return the extracted sentence and follow the system instructions strictly\"),\n",
    "])\n",
    "\n",
    "\n",
    "def get_relevant_sentence(question, evidence):\n",
    "    chain = prompt_template|llm|StrOutputParser()\n",
    "    return chain.invoke({\"question\":question, \"evidence\":evidence.page_content}).strip()"
   ]
  },
  {
   "cell_type": "code",
   "execution_count": 7,
   "metadata": {},
   "outputs": [],
   "source": [
    "prompt_template_2 = ChatPromptTemplate.from_messages([\n",
    "    (\"system\", \"You are tasked with classifying a given claim based on provided statements into one of the following four categories:\"),\n",
    "    (\"system\", \"1. Supported: If there is sufficient evidence indicating that the claim is legitimate, classify it as Supported.\"),\n",
    "    (\"system\", \"2. Refuted: If there is any evidence contradicting the claim, classify it as Refuted.\"),\n",
    "    (\"system\", \"3. Not Enough Evidence: If you cannot find any conclusive factual evidence either supporting or refuting the claim, classify it as Not Enough Evidence. This means the available information is insufficient to make a definitive judgment.\"),\n",
    "    (\"system\", \"4. Conflicting Evidence/Cherrypicking: If there is factual evidence both supporting and refuting the claim, classify it as Conflicting Evidence/Cherrypicking. This indicates that the evidence is mixed, and there are evidences both supporting and refuting the claim.\"),\n",
    "\n",
    "    (\"system\", \"Examples:\"),\n",
    "    (\"system\", \"Example 1:\"),\n",
    "    (\"system\", \"Claim: The new drug is effective in treating diabetes.\"),\n",
    "    (\"system\", \"Statements: ['Clinical trials have shown no significant reduction in blood sugar levels among patients.', 'Several patients reported no change in their blood sugar levels after using the drug', 'The drug has not been widely tested in clinical trials.'] \"),\n",
    "    (\"system\", \"Final Classification: Refuted\"),\n",
    "\n",
    "    (\"system\", \"Example 2:\"),\n",
    "    (\"system\", \"Claim: The new drug is effective in treating diabetes.\"),\n",
    "    (\"system\", \"Statements: ['Clinical trials have shown a significant reduction in blood sugar levels among patients.', 'Many patients reported positive results in managing their blood sugar levels.', 'Experts in the field have praised the effectiveness of the drug.']\"),\n",
    "    (\"system\", \"Final Classification: Supported\"),\n",
    "\n",
    "    (\"human\", \"Claim: {claim}\"),\n",
    "    (\"human\", \"Statements: {relevant_sentences}\"),\n",
    "\n",
    "    (\"system\", \"Pick only one from ['Supported', 'Refuted', 'Not Enough Evidence', 'Conflicting Evidence/Cherry-picking']\"),\n",
    "    (\"system\", \"Do not print anything other than the final classification.\"),\n",
    "])"
   ]
  },
  {
   "cell_type": "code",
   "execution_count": 8,
   "metadata": {},
   "outputs": [],
   "source": [
    "chain = prompt_template_2|llm|StrOutputParser()"
   ]
  },
  {
   "cell_type": "code",
   "execution_count": 9,
   "metadata": {},
   "outputs": [],
   "source": [
    "def generate_claim_dicts(claim: str, docs: List[Document], answers: List[str], pred_label: str) -> Dict:\n",
    "    evidences = []\n",
    "\n",
    "    for i in range(len(docs)):\n",
    "        doc = docs[i]\n",
    "        answer = answers[i]\n",
    "        question = doc.metadata['query']\n",
    "        source = doc.metadata['source']\n",
    "        \n",
    "        evidences.append({'question': question,'answer': answer,'url': source})\n",
    "\n",
    "    claim_dict = {\n",
    "        'claim_id': int(doc.metadata['claim_id']),\n",
    "        'claim': claim,\n",
    "        'evidence': evidences,\n",
    "        'pred_label': pred_label\n",
    "    }\n",
    "\n",
    "    return claim_dict"
   ]
  },
  {
   "cell_type": "code",
   "execution_count": 10,
   "metadata": {},
   "outputs": [],
   "source": [
    "claim_dicts = []\n",
    "pred_labels = []"
   ]
  },
  {
   "cell_type": "code",
   "execution_count": null,
   "metadata": {},
   "outputs": [],
   "source": [
    "for i in tqdm(range(len(dev_data_df))):\n",
    "    claim = dev_data_df['claim'][i]\n",
    "    question = dev_data_df['questions'][i]\n",
    "    json_path = f'top_three/{i}.json'\n",
    "\n",
    "    loader = JSONLLoader(file_path=json_path)\n",
    "    data = loader.load()\n",
    "    relevant_sentences = [get_relevant_sentence(question, evidence) for evidence in data]\n",
    "    pred_label = chain.invoke({\"claim\":claim, \"relevant_sentences\":' '.join(relevant_sentences)}).strip()\n",
    "\n",
    "    claim_dicts.append(generate_claim_dicts(claim, data, relevant_sentences, pred_label))\n",
    "    pred_labels.append(pred_label)"
   ]
  },
  {
   "cell_type": "code",
   "execution_count": 86,
   "metadata": {},
   "outputs": [],
   "source": [
    "with open('dev_preds.json', 'w') as file:\n",
    "    json.dump(claim_dicts, file, indent=4)"
   ]
  },
  {
   "cell_type": "code",
   "execution_count": 2,
   "metadata": {},
   "outputs": [
    {
     "data": {
      "application/vnd.plotly.v1+json": {
       "config": {
        "plotlyServerURL": "https://plot.ly"
       },
       "data": [
        {
         "colorscale": [
          [
           0,
           "#440154"
          ],
          [
           0.1111111111111111,
           "#482878"
          ],
          [
           0.2222222222222222,
           "#3e4989"
          ],
          [
           0.3333333333333333,
           "#31688e"
          ],
          [
           0.4444444444444444,
           "#26828e"
          ],
          [
           0.5555555555555556,
           "#1f9e89"
          ],
          [
           0.6666666666666666,
           "#35b779"
          ],
          [
           0.7777777777777778,
           "#6ece58"
          ],
          [
           0.8888888888888888,
           "#b5de2b"
          ],
          [
           1,
           "#fde725"
          ]
         ],
         "hoverongaps": false,
         "showscale": true,
         "type": "heatmap",
         "x": [
          "Supported",
          "Refuted",
          "Not Enough Evidence",
          "Conflicting Evidence/Cherrypicking"
         ],
         "y": [
          "Conflicting Evidence/Cherrypicking",
          "Not Enough Evidence",
          "Refuted",
          "Supported"
         ],
         "z": [
          [
           15,
           15,
           5,
           3
          ],
          [
           14,
           13,
           6,
           2
          ],
          [
           40,
           226,
           31,
           8
          ],
          [
           83,
           20,
           18,
           1
          ]
         ]
        }
       ],
       "layout": {
        "annotations": [
         {
          "font": {
           "color": "white"
          },
          "showarrow": false,
          "text": "15",
          "x": "Supported",
          "xref": "x",
          "y": "Conflicting Evidence/Cherrypicking",
          "yref": "y"
         },
         {
          "font": {
           "color": "white"
          },
          "showarrow": false,
          "text": "14",
          "x": "Supported",
          "xref": "x",
          "y": "Not Enough Evidence",
          "yref": "y"
         },
         {
          "font": {
           "color": "white"
          },
          "showarrow": false,
          "text": "40",
          "x": "Supported",
          "xref": "x",
          "y": "Refuted",
          "yref": "y"
         },
         {
          "font": {
           "color": "white"
          },
          "showarrow": false,
          "text": "83",
          "x": "Supported",
          "xref": "x",
          "y": "Supported",
          "yref": "y"
         },
         {
          "font": {
           "color": "white"
          },
          "showarrow": false,
          "text": "15",
          "x": "Refuted",
          "xref": "x",
          "y": "Conflicting Evidence/Cherrypicking",
          "yref": "y"
         },
         {
          "font": {
           "color": "white"
          },
          "showarrow": false,
          "text": "13",
          "x": "Refuted",
          "xref": "x",
          "y": "Not Enough Evidence",
          "yref": "y"
         },
         {
          "font": {
           "color": "black"
          },
          "showarrow": false,
          "text": "226",
          "x": "Refuted",
          "xref": "x",
          "y": "Refuted",
          "yref": "y"
         },
         {
          "font": {
           "color": "white"
          },
          "showarrow": false,
          "text": "20",
          "x": "Refuted",
          "xref": "x",
          "y": "Supported",
          "yref": "y"
         },
         {
          "font": {
           "color": "white"
          },
          "showarrow": false,
          "text": "5",
          "x": "Not Enough Evidence",
          "xref": "x",
          "y": "Conflicting Evidence/Cherrypicking",
          "yref": "y"
         },
         {
          "font": {
           "color": "white"
          },
          "showarrow": false,
          "text": "6",
          "x": "Not Enough Evidence",
          "xref": "x",
          "y": "Not Enough Evidence",
          "yref": "y"
         },
         {
          "font": {
           "color": "white"
          },
          "showarrow": false,
          "text": "31",
          "x": "Not Enough Evidence",
          "xref": "x",
          "y": "Refuted",
          "yref": "y"
         },
         {
          "font": {
           "color": "white"
          },
          "showarrow": false,
          "text": "18",
          "x": "Not Enough Evidence",
          "xref": "x",
          "y": "Supported",
          "yref": "y"
         },
         {
          "font": {
           "color": "white"
          },
          "showarrow": false,
          "text": "3",
          "x": "Conflicting Evidence/Cherrypicking",
          "xref": "x",
          "y": "Conflicting Evidence/Cherrypicking",
          "yref": "y"
         },
         {
          "font": {
           "color": "white"
          },
          "showarrow": false,
          "text": "2",
          "x": "Conflicting Evidence/Cherrypicking",
          "xref": "x",
          "y": "Not Enough Evidence",
          "yref": "y"
         },
         {
          "font": {
           "color": "white"
          },
          "showarrow": false,
          "text": "8",
          "x": "Conflicting Evidence/Cherrypicking",
          "xref": "x",
          "y": "Refuted",
          "yref": "y"
         },
         {
          "font": {
           "color": "white"
          },
          "showarrow": false,
          "text": "1",
          "x": "Conflicting Evidence/Cherrypicking",
          "xref": "x",
          "y": "Supported",
          "yref": "y"
         }
        ],
        "height": 700,
        "margin": {
         "b": 100,
         "l": 100,
         "r": 100,
         "t": 100
        },
        "template": {
         "data": {
          "bar": [
           {
            "error_x": {
             "color": "#2a3f5f"
            },
            "error_y": {
             "color": "#2a3f5f"
            },
            "marker": {
             "line": {
              "color": "#E5ECF6",
              "width": 0.5
             },
             "pattern": {
              "fillmode": "overlay",
              "size": 10,
              "solidity": 0.2
             }
            },
            "type": "bar"
           }
          ],
          "barpolar": [
           {
            "marker": {
             "line": {
              "color": "#E5ECF6",
              "width": 0.5
             },
             "pattern": {
              "fillmode": "overlay",
              "size": 10,
              "solidity": 0.2
             }
            },
            "type": "barpolar"
           }
          ],
          "carpet": [
           {
            "aaxis": {
             "endlinecolor": "#2a3f5f",
             "gridcolor": "white",
             "linecolor": "white",
             "minorgridcolor": "white",
             "startlinecolor": "#2a3f5f"
            },
            "baxis": {
             "endlinecolor": "#2a3f5f",
             "gridcolor": "white",
             "linecolor": "white",
             "minorgridcolor": "white",
             "startlinecolor": "#2a3f5f"
            },
            "type": "carpet"
           }
          ],
          "choropleth": [
           {
            "colorbar": {
             "outlinewidth": 0,
             "ticks": ""
            },
            "type": "choropleth"
           }
          ],
          "contour": [
           {
            "colorbar": {
             "outlinewidth": 0,
             "ticks": ""
            },
            "colorscale": [
             [
              0,
              "#0d0887"
             ],
             [
              0.1111111111111111,
              "#46039f"
             ],
             [
              0.2222222222222222,
              "#7201a8"
             ],
             [
              0.3333333333333333,
              "#9c179e"
             ],
             [
              0.4444444444444444,
              "#bd3786"
             ],
             [
              0.5555555555555556,
              "#d8576b"
             ],
             [
              0.6666666666666666,
              "#ed7953"
             ],
             [
              0.7777777777777778,
              "#fb9f3a"
             ],
             [
              0.8888888888888888,
              "#fdca26"
             ],
             [
              1,
              "#f0f921"
             ]
            ],
            "type": "contour"
           }
          ],
          "contourcarpet": [
           {
            "colorbar": {
             "outlinewidth": 0,
             "ticks": ""
            },
            "type": "contourcarpet"
           }
          ],
          "heatmap": [
           {
            "colorbar": {
             "outlinewidth": 0,
             "ticks": ""
            },
            "colorscale": [
             [
              0,
              "#0d0887"
             ],
             [
              0.1111111111111111,
              "#46039f"
             ],
             [
              0.2222222222222222,
              "#7201a8"
             ],
             [
              0.3333333333333333,
              "#9c179e"
             ],
             [
              0.4444444444444444,
              "#bd3786"
             ],
             [
              0.5555555555555556,
              "#d8576b"
             ],
             [
              0.6666666666666666,
              "#ed7953"
             ],
             [
              0.7777777777777778,
              "#fb9f3a"
             ],
             [
              0.8888888888888888,
              "#fdca26"
             ],
             [
              1,
              "#f0f921"
             ]
            ],
            "type": "heatmap"
           }
          ],
          "heatmapgl": [
           {
            "colorbar": {
             "outlinewidth": 0,
             "ticks": ""
            },
            "colorscale": [
             [
              0,
              "#0d0887"
             ],
             [
              0.1111111111111111,
              "#46039f"
             ],
             [
              0.2222222222222222,
              "#7201a8"
             ],
             [
              0.3333333333333333,
              "#9c179e"
             ],
             [
              0.4444444444444444,
              "#bd3786"
             ],
             [
              0.5555555555555556,
              "#d8576b"
             ],
             [
              0.6666666666666666,
              "#ed7953"
             ],
             [
              0.7777777777777778,
              "#fb9f3a"
             ],
             [
              0.8888888888888888,
              "#fdca26"
             ],
             [
              1,
              "#f0f921"
             ]
            ],
            "type": "heatmapgl"
           }
          ],
          "histogram": [
           {
            "marker": {
             "pattern": {
              "fillmode": "overlay",
              "size": 10,
              "solidity": 0.2
             }
            },
            "type": "histogram"
           }
          ],
          "histogram2d": [
           {
            "colorbar": {
             "outlinewidth": 0,
             "ticks": ""
            },
            "colorscale": [
             [
              0,
              "#0d0887"
             ],
             [
              0.1111111111111111,
              "#46039f"
             ],
             [
              0.2222222222222222,
              "#7201a8"
             ],
             [
              0.3333333333333333,
              "#9c179e"
             ],
             [
              0.4444444444444444,
              "#bd3786"
             ],
             [
              0.5555555555555556,
              "#d8576b"
             ],
             [
              0.6666666666666666,
              "#ed7953"
             ],
             [
              0.7777777777777778,
              "#fb9f3a"
             ],
             [
              0.8888888888888888,
              "#fdca26"
             ],
             [
              1,
              "#f0f921"
             ]
            ],
            "type": "histogram2d"
           }
          ],
          "histogram2dcontour": [
           {
            "colorbar": {
             "outlinewidth": 0,
             "ticks": ""
            },
            "colorscale": [
             [
              0,
              "#0d0887"
             ],
             [
              0.1111111111111111,
              "#46039f"
             ],
             [
              0.2222222222222222,
              "#7201a8"
             ],
             [
              0.3333333333333333,
              "#9c179e"
             ],
             [
              0.4444444444444444,
              "#bd3786"
             ],
             [
              0.5555555555555556,
              "#d8576b"
             ],
             [
              0.6666666666666666,
              "#ed7953"
             ],
             [
              0.7777777777777778,
              "#fb9f3a"
             ],
             [
              0.8888888888888888,
              "#fdca26"
             ],
             [
              1,
              "#f0f921"
             ]
            ],
            "type": "histogram2dcontour"
           }
          ],
          "mesh3d": [
           {
            "colorbar": {
             "outlinewidth": 0,
             "ticks": ""
            },
            "type": "mesh3d"
           }
          ],
          "parcoords": [
           {
            "line": {
             "colorbar": {
              "outlinewidth": 0,
              "ticks": ""
             }
            },
            "type": "parcoords"
           }
          ],
          "pie": [
           {
            "automargin": true,
            "type": "pie"
           }
          ],
          "scatter": [
           {
            "fillpattern": {
             "fillmode": "overlay",
             "size": 10,
             "solidity": 0.2
            },
            "type": "scatter"
           }
          ],
          "scatter3d": [
           {
            "line": {
             "colorbar": {
              "outlinewidth": 0,
              "ticks": ""
             }
            },
            "marker": {
             "colorbar": {
              "outlinewidth": 0,
              "ticks": ""
             }
            },
            "type": "scatter3d"
           }
          ],
          "scattercarpet": [
           {
            "marker": {
             "colorbar": {
              "outlinewidth": 0,
              "ticks": ""
             }
            },
            "type": "scattercarpet"
           }
          ],
          "scattergeo": [
           {
            "marker": {
             "colorbar": {
              "outlinewidth": 0,
              "ticks": ""
             }
            },
            "type": "scattergeo"
           }
          ],
          "scattergl": [
           {
            "marker": {
             "colorbar": {
              "outlinewidth": 0,
              "ticks": ""
             }
            },
            "type": "scattergl"
           }
          ],
          "scattermapbox": [
           {
            "marker": {
             "colorbar": {
              "outlinewidth": 0,
              "ticks": ""
             }
            },
            "type": "scattermapbox"
           }
          ],
          "scatterpolar": [
           {
            "marker": {
             "colorbar": {
              "outlinewidth": 0,
              "ticks": ""
             }
            },
            "type": "scatterpolar"
           }
          ],
          "scatterpolargl": [
           {
            "marker": {
             "colorbar": {
              "outlinewidth": 0,
              "ticks": ""
             }
            },
            "type": "scatterpolargl"
           }
          ],
          "scatterternary": [
           {
            "marker": {
             "colorbar": {
              "outlinewidth": 0,
              "ticks": ""
             }
            },
            "type": "scatterternary"
           }
          ],
          "surface": [
           {
            "colorbar": {
             "outlinewidth": 0,
             "ticks": ""
            },
            "colorscale": [
             [
              0,
              "#0d0887"
             ],
             [
              0.1111111111111111,
              "#46039f"
             ],
             [
              0.2222222222222222,
              "#7201a8"
             ],
             [
              0.3333333333333333,
              "#9c179e"
             ],
             [
              0.4444444444444444,
              "#bd3786"
             ],
             [
              0.5555555555555556,
              "#d8576b"
             ],
             [
              0.6666666666666666,
              "#ed7953"
             ],
             [
              0.7777777777777778,
              "#fb9f3a"
             ],
             [
              0.8888888888888888,
              "#fdca26"
             ],
             [
              1,
              "#f0f921"
             ]
            ],
            "type": "surface"
           }
          ],
          "table": [
           {
            "cells": {
             "fill": {
              "color": "#EBF0F8"
             },
             "line": {
              "color": "white"
             }
            },
            "header": {
             "fill": {
              "color": "#C8D4E3"
             },
             "line": {
              "color": "white"
             }
            },
            "type": "table"
           }
          ]
         },
         "layout": {
          "annotationdefaults": {
           "arrowcolor": "#2a3f5f",
           "arrowhead": 0,
           "arrowwidth": 1
          },
          "autotypenumbers": "strict",
          "coloraxis": {
           "colorbar": {
            "outlinewidth": 0,
            "ticks": ""
           }
          },
          "colorscale": {
           "diverging": [
            [
             0,
             "#8e0152"
            ],
            [
             0.1,
             "#c51b7d"
            ],
            [
             0.2,
             "#de77ae"
            ],
            [
             0.3,
             "#f1b6da"
            ],
            [
             0.4,
             "#fde0ef"
            ],
            [
             0.5,
             "#f7f7f7"
            ],
            [
             0.6,
             "#e6f5d0"
            ],
            [
             0.7,
             "#b8e186"
            ],
            [
             0.8,
             "#7fbc41"
            ],
            [
             0.9,
             "#4d9221"
            ],
            [
             1,
             "#276419"
            ]
           ],
           "sequential": [
            [
             0,
             "#0d0887"
            ],
            [
             0.1111111111111111,
             "#46039f"
            ],
            [
             0.2222222222222222,
             "#7201a8"
            ],
            [
             0.3333333333333333,
             "#9c179e"
            ],
            [
             0.4444444444444444,
             "#bd3786"
            ],
            [
             0.5555555555555556,
             "#d8576b"
            ],
            [
             0.6666666666666666,
             "#ed7953"
            ],
            [
             0.7777777777777778,
             "#fb9f3a"
            ],
            [
             0.8888888888888888,
             "#fdca26"
            ],
            [
             1,
             "#f0f921"
            ]
           ],
           "sequentialminus": [
            [
             0,
             "#0d0887"
            ],
            [
             0.1111111111111111,
             "#46039f"
            ],
            [
             0.2222222222222222,
             "#7201a8"
            ],
            [
             0.3333333333333333,
             "#9c179e"
            ],
            [
             0.4444444444444444,
             "#bd3786"
            ],
            [
             0.5555555555555556,
             "#d8576b"
            ],
            [
             0.6666666666666666,
             "#ed7953"
            ],
            [
             0.7777777777777778,
             "#fb9f3a"
            ],
            [
             0.8888888888888888,
             "#fdca26"
            ],
            [
             1,
             "#f0f921"
            ]
           ]
          },
          "colorway": [
           "#636efa",
           "#EF553B",
           "#00cc96",
           "#ab63fa",
           "#FFA15A",
           "#19d3f3",
           "#FF6692",
           "#B6E880",
           "#FF97FF",
           "#FECB52"
          ],
          "font": {
           "color": "#2a3f5f"
          },
          "geo": {
           "bgcolor": "white",
           "lakecolor": "white",
           "landcolor": "#E5ECF6",
           "showlakes": true,
           "showland": true,
           "subunitcolor": "white"
          },
          "hoverlabel": {
           "align": "left"
          },
          "hovermode": "closest",
          "mapbox": {
           "style": "light"
          },
          "paper_bgcolor": "white",
          "plot_bgcolor": "#E5ECF6",
          "polar": {
           "angularaxis": {
            "gridcolor": "white",
            "linecolor": "white",
            "ticks": ""
           },
           "bgcolor": "#E5ECF6",
           "radialaxis": {
            "gridcolor": "white",
            "linecolor": "white",
            "ticks": ""
           }
          },
          "scene": {
           "xaxis": {
            "backgroundcolor": "#E5ECF6",
            "gridcolor": "white",
            "gridwidth": 2,
            "linecolor": "white",
            "showbackground": true,
            "ticks": "",
            "zerolinecolor": "white"
           },
           "yaxis": {
            "backgroundcolor": "#E5ECF6",
            "gridcolor": "white",
            "gridwidth": 2,
            "linecolor": "white",
            "showbackground": true,
            "ticks": "",
            "zerolinecolor": "white"
           },
           "zaxis": {
            "backgroundcolor": "#E5ECF6",
            "gridcolor": "white",
            "gridwidth": 2,
            "linecolor": "white",
            "showbackground": true,
            "ticks": "",
            "zerolinecolor": "white"
           }
          },
          "shapedefaults": {
           "line": {
            "color": "#2a3f5f"
           }
          },
          "ternary": {
           "aaxis": {
            "gridcolor": "white",
            "linecolor": "white",
            "ticks": ""
           },
           "baxis": {
            "gridcolor": "white",
            "linecolor": "white",
            "ticks": ""
           },
           "bgcolor": "#E5ECF6",
           "caxis": {
            "gridcolor": "white",
            "linecolor": "white",
            "ticks": ""
           }
          },
          "title": {
           "x": 0.05
          },
          "xaxis": {
           "automargin": true,
           "gridcolor": "white",
           "linecolor": "white",
           "ticks": "",
           "title": {
            "standoff": 15
           },
           "zerolinecolor": "white",
           "zerolinewidth": 2
          },
          "yaxis": {
           "automargin": true,
           "gridcolor": "white",
           "linecolor": "white",
           "ticks": "",
           "title": {
            "standoff": 15
           },
           "zerolinecolor": "white",
           "zerolinewidth": 2
          }
         }
        },
        "title": {
         "text": "Confusion Matrix"
        },
        "width": 800,
        "xaxis": {
         "tickmode": "array",
         "ticktext": [
          "Supported",
          "Refuted",
          "Not Enough Evidence",
          "Conflicting Evidence/Cherrypicking"
         ],
         "tickvals": [
          0,
          1,
          2,
          3
         ],
         "title": {
          "text": "True Label"
         }
        },
        "yaxis": {
         "tickmode": "array",
         "ticktext": [
          "Conflicting Evidence/Cherrypicking",
          "Not Enough Evidence",
          "Refuted",
          "Supported"
         ],
         "tickvals": [
          0,
          1,
          2,
          3
         ],
         "title": {
          "text": "Predicted Label"
         }
        }
       }
      }
     },
     "metadata": {},
     "output_type": "display_data"
    }
   ],
   "source": [
    "import plotly.graph_objects as go\n",
    "import numpy as np\n",
    "from sklearn.metrics import confusion_matrix\n",
    "from sklearn.preprocessing import LabelEncoder\n",
    "\n",
    "dev_data_df['predicted'] = pred_labels\n",
    "\n",
    "label_encoder = LabelEncoder()\n",
    "true_labels_int = label_encoder.fit_transform(dev_data_df['actual'])\n",
    "pred_labels_int = label_encoder.transform(dev_data_df['predicted'])\n",
    "\n",
    "cm = confusion_matrix(true_labels_int, pred_labels_int)\n",
    "labels = label_encoder.classes_\n",
    "\n",
    "reversed_labels = labels[::-1]\n",
    "\n",
    "fig = go.Figure(data=go.Heatmap(\n",
    "                   z=np.flip(cm, axis=1),\n",
    "                   x=reversed_labels,\n",
    "                   y=labels,\n",
    "                   hoverongaps=False,\n",
    "                   colorscale='Viridis',\n",
    "                   showscale=True))\n",
    "\n",
    "fig.update_layout(\n",
    "    title='Confusion Matrix',\n",
    "    xaxis_title='True Label',\n",
    "    yaxis_title='Predicted Label',\n",
    "    xaxis=dict(\n",
    "        tickmode='array',\n",
    "        tickvals=np.arange(len(reversed_labels)),\n",
    "        ticktext=reversed_labels\n",
    "    ),\n",
    "    yaxis=dict(\n",
    "        tickmode='array',\n",
    "        tickvals=np.arange(len(labels)),\n",
    "        ticktext=labels\n",
    "    ),\n",
    "    margin=dict(l=100, r=100, t=100, b=100),\n",
    "    width=800,\n",
    "    height=700\n",
    ")\n",
    "\n",
    "annotations = []\n",
    "for i in range(len(reversed_labels)):\n",
    "    for j in range(len(labels)):\n",
    "        annotations.append(\n",
    "            go.layout.Annotation(\n",
    "                text=str(cm[j][len(reversed_labels)-1-i]),\n",
    "                x=reversed_labels[i],\n",
    "                y=labels[j],\n",
    "                xref='x1',\n",
    "                yref='y1',\n",
    "                showarrow=False,\n",
    "                font=dict(\n",
    "                    color=\"white\" if cm[j][len(reversed_labels)-1-i] < np.max(cm) / 2 else \"black\"\n",
    "                )\n",
    "            )\n",
    "        )\n",
    "\n",
    "fig.update_layout(annotations=annotations)\n",
    "fig.show()"
   ]
  },
  {
   "cell_type": "code",
   "execution_count": null,
   "metadata": {},
   "outputs": [],
   "source": []
  }
 ],
 "metadata": {
  "kernelspec": {
   "display_name": ".venv",
   "language": "python",
   "name": "python3"
  },
  "language_info": {
   "codemirror_mode": {
    "name": "ipython",
    "version": 3
   },
   "file_extension": ".py",
   "mimetype": "text/x-python",
   "name": "python",
   "nbconvert_exporter": "python",
   "pygments_lexer": "ipython3",
   "version": "3.10.5"
  }
 },
 "nbformat": 4,
 "nbformat_minor": 2
}
